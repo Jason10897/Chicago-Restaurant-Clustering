{
 "cells": [
  {
   "cell_type": "code",
   "execution_count": 1,
   "metadata": {},
   "outputs": [],
   "source": [
    "import json\n",
    "import requests"
   ]
  },
  {
   "cell_type": "code",
   "execution_count": null,
   "metadata": {},
   "outputs": [],
   "source": [
    "url = 'https://api.yelp.com/v3/businesses/matches'\n",
    "\n",
    "api_keys = [\"KYLGaHvxhWgZpAHfHuXCUQmgjZBHIo96dHPvjMUtQBHRjRtcJ9nbq_9HoD-Dqznc5m7_blYXASNNC1tKmASXXryrPh5J53v4I98pxabBeKaKbfgDVcPEYda34r-JYXYx\",\n",
    "            \"rfrWUtiUAUW46cryp1hic_sn_XcoNg93ZhpXhkYuQhrVWfiAJvpngKY4l7bcAEtB8qStkYE_ZOSNoXnvp94tOMiTECPNeuFOrWsdxg4qcVBO6Qq2M8QEC7ejfcaJYXYx\",\n",
    "            \"y5rpH68cgnfrnhW4RZeVVBk7A7pIy1znYh2d-W5XwmUHMDU9b7XJpzsymPu0d5kxBdbgCJOIavt-6jLyl6RjmoH3JvN6d4zDx6tXq0QNYwtwT0e_Sm-p4m3ceciJYXYx\",\n",
    "            \"WgjhydyFX22nvIhfI3YSeb5qroeTc50S6RN-mBjWMHSW4ZX3Y6H_XhoXmevaXe-X3gvyXdQ7fvmsXM2x7n45JHHoGIcLWd0pDYPPuT23G_WVTQwj5uVCUQfl7b-JYXYx\",\n",
    "            \"DdyRlKHQG3eHknz7hsrxUjb8ibwjmvTYHTYDnnVONf0vtR57asoAuo5gbyWNfsEKqSy0v66Nv-jVcRJo19lJgqzHte_F0nkICs35EgdochGbzgBbFeKy1oTYn8GJYXYx\",\n",
    "            \"148oIkQFrY-EsC7iILIc8GN9AiPplLrZ2BysIkwJtbvYPeqXKSPBrWzEa7pvMogL2z3-l2vkWhUtUwo2mLAypciHkbTvyEGp7qUwKlMFfmX_i6qwkxeMBeF-j8KJYXYx\",\n",
    "            \"qS-Jr1Wyq81gltgutld7UfyrLFmf8vqwKs-4FM7lnD6HhbbaAty6waNlRcgutRacFj-58wce4u1THzCMkOMxtQgm6T3boX99SWhxYP1rhRRtJGLIFe8gphbPVsOJYXYx\",\n",
    "            \"5w0H9uJTb4CxhF3IPq-6JU_A-RBqrgmsvs9xvBStQuFmKSlBuxWghU0E26fgEpvnCEwNuxFC5509graBbIVGcdChJyzpMrpK_SACm024GIdViAcqePdn9X8b2MqJYXYx\",\n",
    "            \"qDHtFSLvSVan3icJ9XXJAOqjKsnVM5TfEQ7zKONbIieHA47RgVXiUK_sMEeCxkK5YkEZAynPDTIsijFWiS9VFPIV2mYfYv5FykT-Izyr1vi_P8X6S72rhiv_M8N8YXYx\",\n",
    "            \"Wt7bAWbMrs2-EdX4VzD3eMiH5HxRI7rv2yG1qzk-kUgOZp0I9zxEAFi8jZMqt2MQ-h65E2X10ToU39wSbxxEvlOwhrgO_cZoYyN7Ir3OYzRCrbDPcdpnWMLnGsyJYXYx\",\n",
    "            \"_Xib_RYecDBt2xakbm1kHRXtaxZmb4iXEaUApZURZTqLIVgDgiyeI0GUgr8fOSa4GNW5iXqgXhYLrYG5gn_2NiE0OklHkUmp00OeVDxRt39qmxPGYuUVJObYFs6JYXYx\",\n",
    "            \"HfhVA8Fh6qLSJT4OvBM87MD8A7_QJ8U_nhBas4L0dMgbN0vyPyDbxA3F64I2qMAMOkHKa0S3tKhk_6dkzj7b10OkHUKfhx70bCubwQDoQ5RXHKdKe33bkgVd78uJYXYx\"]"
   ]
  },
  {
   "cell_type": "code",
   "execution_count": null,
   "metadata": {},
   "outputs": [],
   "source": [
    "for api_key in api_keys:\n",
    "    headers = {'Authorization': 'Bearer %s' % api_key}\n",
    "    \n",
    "    #params = {'name': name, 'location': 'Chicago', 'address1': '4174  Washington ST', 'city': 'Boston', 'state': 'MA', 'country': 'US', 'match_threshold': 'default'}\n",
    "\n",
    "    '''\n",
    "    # Making a get request to the API\n",
    "    req = requests.get(url, params = params, headers = headers)\n",
    "\n",
    "    # printing the text from the response\n",
    "    data = json.loads(req.text)\n",
    "    '''\n",
    "\n",
    "    print(api_key)"
   ]
  }
 ],
 "metadata": {
  "kernelspec": {
   "display_name": "Python 3",
   "language": "python",
   "name": "python3"
  },
  "language_info": {
   "codemirror_mode": {
    "name": "ipython",
    "version": 3
   },
   "file_extension": ".py",
   "mimetype": "text/x-python",
   "name": "python",
   "nbconvert_exporter": "python",
   "pygments_lexer": "ipython3",
   "version": "3.8.8"
  }
 },
 "nbformat": 4,
 "nbformat_minor": 4
}
