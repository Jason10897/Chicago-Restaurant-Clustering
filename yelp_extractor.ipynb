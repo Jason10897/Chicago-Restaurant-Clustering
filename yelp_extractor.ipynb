{
 "cells": [
  {
   "cell_type": "code",
   "execution_count": 1,
   "metadata": {},
   "outputs": [],
   "source": [
    "import json\n",
    "import requests\n",
    "import pandas as pd"
   ]
  },
  {
   "cell_type": "code",
   "execution_count": 120,
   "metadata": {},
   "outputs": [],
   "source": [
    "url = 'https://api.yelp.com/v3/businesses/matches'\n",
    "\n",
    "api_keys = [\"KYLGaHvxhWgZpAHfHuXCUQmgjZBHIo96dHPvjMUtQBHRjRtcJ9nbq_9HoD-Dqznc5m7_blYXASNNC1tKmASXXryrPh5J53v4I98pxabBeKaKbfgDVcPEYda34r-JYXYx\",\n",
    "            \"rfrWUtiUAUW46cryp1hic_sn_XcoNg93ZhpXhkYuQhrVWfiAJvpngKY4l7bcAEtB8qStkYE_ZOSNoXnvp94tOMiTECPNeuFOrWsdxg4qcVBO6Qq2M8QEC7ejfcaJYXYx\",\n",
    "            \"y5rpH68cgnfrnhW4RZeVVBk7A7pIy1znYh2d-W5XwmUHMDU9b7XJpzsymPu0d5kxBdbgCJOIavt-6jLyl6RjmoH3JvN6d4zDx6tXq0QNYwtwT0e_Sm-p4m3ceciJYXYx\",\n",
    "            \"WgjhydyFX22nvIhfI3YSeb5qroeTc50S6RN-mBjWMHSW4ZX3Y6H_XhoXmevaXe-X3gvyXdQ7fvmsXM2x7n45JHHoGIcLWd0pDYPPuT23G_WVTQwj5uVCUQfl7b-JYXYx\",\n",
    "            \"DdyRlKHQG3eHknz7hsrxUjb8ibwjmvTYHTYDnnVONf0vtR57asoAuo5gbyWNfsEKqSy0v66Nv-jVcRJo19lJgqzHte_F0nkICs35EgdochGbzgBbFeKy1oTYn8GJYXYx\",\n",
    "            \"148oIkQFrY-EsC7iILIc8GN9AiPplLrZ2BysIkwJtbvYPeqXKSPBrWzEa7pvMogL2z3-l2vkWhUtUwo2mLAypciHkbTvyEGp7qUwKlMFfmX_i6qwkxeMBeF-j8KJYXYx\",\n",
    "            \"qS-Jr1Wyq81gltgutld7UfyrLFmf8vqwKs-4FM7lnD6HhbbaAty6waNlRcgutRacFj-58wce4u1THzCMkOMxtQgm6T3boX99SWhxYP1rhRRtJGLIFe8gphbPVsOJYXYx\",\n",
    "            \"5w0H9uJTb4CxhF3IPq-6JU_A-RBqrgmsvs9xvBStQuFmKSlBuxWghU0E26fgEpvnCEwNuxFC5509graBbIVGcdChJyzpMrpK_SACm024GIdViAcqePdn9X8b2MqJYXYx\",\n",
    "            \"qDHtFSLvSVan3icJ9XXJAOqjKsnVM5TfEQ7zKONbIieHA47RgVXiUK_sMEeCxkK5YkEZAynPDTIsijFWiS9VFPIV2mYfYv5FykT-Izyr1vi_P8X6S72rhiv_M8N8YXYx\",\n",
    "            \"Wt7bAWbMrs2-EdX4VzD3eMiH5HxRI7rv2yG1qzk-kUgOZp0I9zxEAFi8jZMqt2MQ-h65E2X10ToU39wSbxxEvlOwhrgO_cZoYyN7Ir3OYzRCrbDPcdpnWMLnGsyJYXYx\",\n",
    "            \"_Xib_RYecDBt2xakbm1kHRXtaxZmb4iXEaUApZURZTqLIVgDgiyeI0GUgr8fOSa4GNW5iXqgXhYLrYG5gn_2NiE0OklHkUmp00OeVDxRt39qmxPGYuUVJObYFs6JYXYx\",\n",
    "            \"HfhVA8Fh6qLSJT4OvBM87MD8A7_QJ8U_nhBas4L0dMgbN0vyPyDbxA3F64I2qMAMOkHKa0S3tKhk_6dkzj7b10OkHUKfhx70bCubwQDoQ5RXHKdKe33bkgVd78uJYXYx\"]"
   ]
  },
  {
   "cell_type": "code",
   "execution_count": 130,
   "metadata": {},
   "outputs": [
    {
     "name": "stdout",
     "output_type": "stream",
     "text": [
      "33855\n"
     ]
    }
   ],
   "source": [
    "rest_df = pd.read_csv('data/ChicagoRestaurantsAndAddress.csv')\n",
    "rest = rest_df.shape[0]\n",
    "\n",
    "offset = 0\n",
    "for i, api_key in enumerate(api_keys):\n",
    "    headers = {'Authorization': 'Bearer %s' % api_key}\n",
    "        \n",
    "    j = 0\n",
    "    while j in range(2450) and offset <= rest - 1:\n",
    "        params = {'name': rest_df.iloc[offset]['DBA Name'], 'location': 'Chicago', 'address1': rest_df.iloc[offset]['Address'], 'city': 'Chicago', 'state': 'IL', 'country': 'US', 'match_threshold': 'default'}\n",
    "        \n",
    "        req = requests.get(url, params = params, headers = headers)\n",
    "        data = json.loads(req.text)\n",
    "        offset += 1\n",
    "        j += 1\n",
    "\n",
    "        if(len(data['businesses']) > 0):\n",
    "            with open(\"data/yelp.json\", \"r+\") as file:\n",
    "                data_list = json.load(file)\n",
    "                data_list.append(data)\n",
    "                file.seek(0)\n",
    "                json.dump(data_list, file)\n",
    "\n",
    "            id_ = data['businesses'][0]['id']\n",
    "            url_2 = 'https://api.yelp.com/v3/businesses/{}'.format(id_)\n",
    "            req_2 = requests.get(url_2, headers = headers)\n",
    "            data_2 = json.loads(req_2.text)\n",
    "\n",
    "            with open(\"data/restaurant.json\", \"r+\") as file:\n",
    "                data_list = json.load(file)\n",
    "                data_list.append(data_2)\n",
    "                file.seek(0)\n",
    "                json.dump(data_list, file)\n",
    "\n",
    "print(offset)"
   ]
  },
  {
   "cell_type": "code",
   "execution_count": 2,
   "metadata": {},
   "outputs": [
    {
     "name": "stdout",
     "output_type": "stream",
     "text": [
      "(18427, 1)\n",
      "(18427, 20)\n"
     ]
    }
   ],
   "source": [
    "print(pd.read_json('data/yelp.json', orient = 'records').shape)\n",
    "print(pd.read_json('data/restaurant.json', orient = 'records').shape)"
   ]
  }
 ],
 "metadata": {
  "kernelspec": {
   "display_name": "Python 3 (ipykernel)",
   "language": "python",
   "name": "python3"
  },
  "language_info": {
   "codemirror_mode": {
    "name": "ipython",
    "version": 3
   },
   "file_extension": ".py",
   "mimetype": "text/x-python",
   "name": "python",
   "nbconvert_exporter": "python",
   "pygments_lexer": "ipython3",
   "version": "3.8.8"
  }
 },
 "nbformat": 4,
 "nbformat_minor": 4
}
